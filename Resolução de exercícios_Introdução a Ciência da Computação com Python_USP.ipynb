{
 "cells": [
  {
   "cell_type": "markdown",
   "metadata": {},
   "source": [
    "Faça um programa em Python que realize o cálculo das raízes com a fórmula de Bhaskara:"
   ]
  },
  {
   "cell_type": "code",
   "execution_count": null,
   "metadata": {},
   "outputs": [],
   "source": [
    "import math\n",
    "\n",
    "a= float(input(\"Digite o valor de a: \"))\n",
    "b = float(input(\"Digite o valor de b: \"))\n",
    "c = float(input(\"Digite o valor de c: \"))\n",
    "\n",
    "\n",
    "delta = b ** 2 - 4 * a * c\n",
    "\n",
    "if delta == 0:\n",
    "    raiz1 = (-b + math.sqrt(delta))/(2 * a)\n",
    "    print(\"A única raiz é:\", raiz1)\n",
    "else:\n",
    "    if delta < 0:\n",
    "        print(\"Esta esquação não possui raízes reais\")\n",
    "    else:\n",
    "        raiz1 = (-b + math.sqrt(delta))/(2 * a)\n",
    "        raiz2 = (-b - math.sqrt(delta))/(2 * a)\n",
    "        print(\"A primeira raiz é: \", raiz1)\n",
    "        print(\"A primeira raiz é: \", raiz2)"
   ]
  },
  {
   "cell_type": "markdown",
   "metadata": {},
   "source": [
    "Faça um programa em Python para ser usado com um Conversor de segundos:"
   ]
  },
  {
   "cell_type": "code",
   "execution_count": null,
   "metadata": {},
   "outputs": [],
   "source": [
    "segundos_str = input(\"Por favor, entre com o numero de segundos que deseja converter: \")\n",
    "total_segs = int(segundos_str)\n",
    "horas = total_segs // 3600\n",
    "segs_restantes = total_segs % 3600\n",
    "minutos = segs_restantes // 60\n",
    "segs_restantes_final = segs_restantes % 60\n",
    "\n",
    "print (horas, \"horas, \", minutos, \"minutos e \", segs_restantes_final, \"segundos.\")"
   ]
  },
  {
   "cell_type": "markdown",
   "metadata": {},
   "source": [
    "Faça um programa em Python que receba (entrada de dados) o valor correspondente ao lado de um quadrado, calcule e imprima (saída de dados) seu perímetro e sua área.\n",
    "\n",
    "Observação: a saída deve estar no formato: \"perímetro: x - área: y\""
   ]
  },
  {
   "cell_type": "code",
   "execution_count": null,
   "metadata": {},
   "outputs": [],
   "source": [
    "entrada = int(input(\"Digite o valor correspondente ao lado de um quadrado: \"))\n",
    "perimetro = entrada * 4\n",
    "area = entrada * entrada\n",
    "print (\"perímetro:\", perimetro, \" - área: \", area)"
   ]
  },
  {
   "cell_type": "markdown",
   "metadata": {},
   "source": [
    "Receba 4 números na entrada, um de cada vez. Os dois primeiros devem corresponder, respectivamente, às coordenadas x e y de um ponto em um plano cartesiano. Os dois últimos devem corresponder, respectivamente, às coordenadas x e y de um outro ponto no mesmo plano.\n",
    "\n",
    "Calcule a distância entre os dois pontos. Se a distância for maior ou igual a 10, imprima\n",
    "\n",
    "longe\n",
    "\n",
    "na saída. Caso o contrário, quando a distância for menor que 10, imprima\n",
    "\n",
    "perto"
   ]
  },
  {
   "cell_type": "code",
   "execution_count": null,
   "metadata": {},
   "outputs": [],
   "source": [
    "import math\n",
    "\n",
    "x1 = float(input(\"Digite o valor de x1: \"))\n",
    "y1 = float(input(\"Digite o valor de y1: \"))\n",
    "x2 = float(input(\"Digite o valor de x2: \"))\n",
    "y2 = float(input(\"Digite o valor de y2: \"))\n",
    "\n",
    "distancia = math.sqrt((x1 - x2)**2 + (y1 - y2) ** 2) \n",
    "\n",
    "if (distancia >= 10):\n",
    "       print(\"longe\")\n",
    "else:\n",
    "        print(\"perto\")"
   ]
  },
  {
   "cell_type": "markdown",
   "metadata": {},
   "source": [
    "Peça para o usuário escolher o tamanho de uma sequencia de números e fazer a soma dos números digitados:"
   ]
  },
  {
   "cell_type": "code",
   "execution_count": null,
   "metadata": {},
   "outputs": [],
   "source": [
    "qtd = int(input(\"Digite uma sequencia de números : \"))\n",
    "valor = 0\n",
    "soma = 0\n",
    "i = 0\n",
    "while i < qtd:\n",
    "    valor = int(input(\"Digite um valor para somar:\"))\n",
    "    soma = soma + valor\n",
    "    i = i+1\n",
    "print(soma)\n"
   ]
  },
  {
   "cell_type": "markdown",
   "metadata": {},
   "source": [
    "Dada uma sequência de números, some cada dígito desse número:"
   ]
  },
  {
   "cell_type": "code",
   "execution_count": null,
   "metadata": {},
   "outputs": [],
   "source": [
    "seq = int(input(\"Digite uma sequencia de números: \"))\n",
    "soma = 0\n",
    "u = 0\n",
    "while seq > 0:\n",
    "    u = seq % 10\n",
    "    print(u)\n",
    "    seq = seq // 10\n",
    "    print(seq)\n",
    "    soma = soma + u\n",
    "\n",
    "\n",
    "print(soma)"
   ]
  },
  {
   "cell_type": "code",
   "execution_count": 10,
   "metadata": {},
   "outputs": [
    {
     "name": "stdout",
     "output_type": "stream",
     "text": [
      "Digite o primeiro número: 5\n",
      "Digite o próximo numero: 4\n",
      "Digite o próximo numero: 3\n",
      "Digite o próximo numero: 2\n",
      "Digite o próximo numero: 0\n",
      "Esta sequencia foi decrescente\n"
     ]
    }
   ],
   "source": [
    "decrescente = True\n",
    "anterior = int(input(\"Digite o primeiro número: \"))\n",
    "valor = 1\n",
    "while valor != 0 and decrescente:\n",
    "    valor = int(input(\"Digite o próximo numero: \"))\n",
    "    if valor > anterior:\n",
    "        decrescente = False\n",
    "    anterior = valor\n",
    "    \n",
    "if decrescente == True:    \n",
    "    print(\"Sequencia decrescente\")\n",
    "else:\n",
    "    print(\"Sequencia crescente\")\n"
   ]
  },
  {
   "cell_type": "code",
   "execution_count": null,
   "metadata": {},
   "outputs": [],
   "source": [
    "Dado um número, informe se há números adjacents iguais:"
   ]
  },
  {
   "cell_type": "code",
   "execution_count": 12,
   "metadata": {},
   "outputs": [
    {
     "name": "stdout",
     "output_type": "stream",
     "text": [
      "Informe uma sequencia de numeros: 22365\n",
      "2 2\n",
      "Foi encontrado números adjacentes iguais nesta sequência\n"
     ]
    }
   ],
   "source": [
    "num = int(input(\"Informe uma sequencia de numeros: \"))\n",
    "resto = 0\n",
    "while num != 0:\n",
    "    u = num % 10\n",
    "    num = num // 10\n",
    "    a = num % 10\n",
    "    if a == u:\n",
    "        print(a, u)\n",
    "        print('Foi encontrado números adjacentes iguais nesta sequência')\n",
    "    "
   ]
  },
  {
   "cell_type": "code",
   "execution_count": null,
   "metadata": {},
   "outputs": [],
   "source": [
    "Verifica sequencia de ímpares menores que determinado número:"
   ]
  },
  {
   "cell_type": "code",
   "execution_count": 21,
   "metadata": {},
   "outputs": [
    {
     "name": "stdout",
     "output_type": "stream",
     "text": [
      "Digite um número: 15\n",
      "13\n",
      "11\n",
      "9\n",
      "7\n",
      "5\n",
      "3\n",
      "1\n"
     ]
    }
   ],
   "source": [
    "x= int(input('Digite um número: '))\n",
    "while not (x == 0):\n",
    "    x = x-1\n",
    "    if x % 2 != 0:\n",
    "        print(x)"
   ]
  },
  {
   "cell_type": "markdown",
   "metadata": {},
   "source": [
    "Peça uma sequência de números e informe ao final, quantos pares e quantos ímpares:"
   ]
  },
  {
   "cell_type": "code",
   "execution_count": 19,
   "metadata": {},
   "outputs": [
    {
     "name": "stdout",
     "output_type": "stream",
     "text": [
      "Digite um número, ou zero para terminar: 20\n",
      "Digite um número, ou zero para terminar: 25\n",
      "Digite um número, ou zero para terminar: 31\n",
      "Digite um número, ou zero para terminar: 40\n",
      "Digite um número, ou zero para terminar: 70\n",
      "Digite um número, ou zero para terminar: 78\n",
      "Digite um número, ou zero para terminar: 0\n",
      "P =  4\n",
      "I =  2\n"
     ]
    }
   ],
   "source": [
    "terminou = False\n",
    "p = i = 0\n",
    "while (not terminou):\n",
    "    n = int(input(\"Digite um número, ou zero para terminar: \"))\n",
    "    if n == 0:\n",
    "        terminou = True\n",
    "    else:\n",
    "        if n % 2 == 0:\n",
    "            p = p + 1\n",
    "        else:\n",
    "            i = i + 1\n",
    "\n",
    "print (\"P = \", p)\n",
    "print (\"I = \", i)"
   ]
  },
  {
   "cell_type": "markdown",
   "metadata": {},
   "source": [
    "Escreva um programa que receba um número natural nn na entrada e imprima n!n! (fatorial) na saída."
   ]
  },
  {
   "cell_type": "code",
   "execution_count": 4,
   "metadata": {},
   "outputs": [
    {
     "name": "stdout",
     "output_type": "stream",
     "text": [
      "Digite um número: 5\n",
      "120\n"
     ]
    }
   ],
   "source": [
    "n= int(input('Digite um número: '))\n",
    "i = 1\n",
    "u = 1\n",
    "while u != n:\n",
    "    u = u+1\n",
    "    i= i *(u)\n",
    "print(i)\n"
   ]
  },
  {
   "cell_type": "code",
   "execution_count": 12,
   "metadata": {},
   "outputs": [
    {
     "name": "stdout",
     "output_type": "stream",
     "text": [
      "120\n"
     ]
    }
   ],
   "source": [
    "print(6*4*5)"
   ]
  },
  {
   "cell_type": "markdown",
   "metadata": {},
   "source": [
    "Receba um número inteiro positivo na entrada e imprima os nn primeiros números ímpares naturais. Para a saída, siga o formato do exemplo abaixo."
   ]
  },
  {
   "cell_type": "code",
   "execution_count": null,
   "metadata": {},
   "outputs": [
    {
     "name": "stdout",
     "output_type": "stream",
     "text": [
      "Digite um número inteiro positivo: 7\n"
     ]
    }
   ],
   "source": [
    "n = int(input('Digite um número inteiro positivo: '))\n",
    "a = n\n",
    "c = n\n",
    "b = 0\n",
    "x = 0\n",
    "while a < 10 and c < 10:    \n",
    "    a = n -1\n",
    "    c = n +1         \n",
    "    x = c % 2 \n",
    "    b = a % 2\n",
    "    if (x != 0) or (b != 0):\n",
    "        print (a)\n",
    "      \n",
    "        \n",
    "        \n",
    "        "
   ]
  },
  {
   "cell_type": "markdown",
   "metadata": {},
   "source": [
    "Receba um número inteiro positivo na entrada e imprima os nn primeiros números ímpares naturais. Para a saída, siga o formato do exemplo abaixo."
   ]
  },
  {
   "cell_type": "code",
   "execution_count": 1,
   "metadata": {},
   "outputs": [
    {
     "name": "stdout",
     "output_type": "stream",
     "text": [
      "Digite o valor de n: 7\n",
      "1\n",
      "3\n",
      "5\n",
      "7\n",
      "9\n",
      "11\n",
      "13\n"
     ]
    }
   ],
   "source": [
    "n = int(input('Digite o valor de n: '))\n",
    "x = 0\n",
    "cont= 0\n",
    "while cont < n:    \n",
    "    x = x +1\n",
    "    if x % 2 != 0:\n",
    "        cont = cont +1\n",
    "        print(x)"
   ]
  },
  {
   "cell_type": "code",
   "execution_count": null,
   "metadata": {},
   "outputs": [],
   "source": []
  }
 ],
 "metadata": {
  "kernelspec": {
   "display_name": "Python 3",
   "language": "python",
   "name": "python3"
  },
  "language_info": {
   "codemirror_mode": {
    "name": "ipython",
    "version": 3
   },
   "file_extension": ".py",
   "mimetype": "text/x-python",
   "name": "python",
   "nbconvert_exporter": "python",
   "pygments_lexer": "ipython3",
   "version": "3.8.3"
  }
 },
 "nbformat": 4,
 "nbformat_minor": 4
}
